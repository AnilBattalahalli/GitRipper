{
 "cells": [
  {
   "cell_type": "code",
   "execution_count": 1,
   "metadata": {},
   "outputs": [],
   "source": [
    "import json\n",
    "import os\n",
    "import ast\n",
    "from tqdm import tqdm\n",
    "from multiprocessing import Pool\n",
    "import sys\n",
    "from random import choice, randint\n",
    "import time\n",
    "sys.path.append('/home/sreenath_a/Projects/OSS/Production/GitRipper')\n",
    "\n",
    "import pandas as pd\n",
    "from GitRipper.Ripper import collect\n",
    "from sqlalchemy import create_engine\n",
    "from sqlalchemy import text as sql_text\n",
    "from sqlalchemy import func"
   ]
  },
  {
   "cell_type": "code",
   "execution_count": 2,
   "metadata": {},
   "outputs": [],
   "source": [
    "hostname=\"oss-1.cij9gk1eehyr.us-east-1.rds.amazonaws.com\"\n",
    "dbname=\"ossdata\"\n",
    "uname=\"admin\"\n",
    "pwd=\"OSS022323\"\n",
    "\n",
    "engine = create_engine(f\"mysql+pymysql://{uname}:{pwd}@{hostname}/{dbname}\")"
   ]
  },
  {
   "cell_type": "code",
   "execution_count": 3,
   "metadata": {},
   "outputs": [],
   "source": [
    "columns = ['repo_owner', 'repo_name', 'oid', 'messageHeadline', 'author_name',\n",
    "       'author_email', 'author_user_login', 'author_user_location',\n",
    "       'author_user_company', 'author_user_pronouns', 'author_user_bio',\n",
    "       'author_user_websiteUrl', 'author_user_twitterUsername', 'author_date',\n",
    "       'additions', 'deletions']"
   ]
  },
  {
   "cell_type": "code",
   "execution_count": 4,
   "metadata": {},
   "outputs": [
    {
     "name": "stdout",
     "output_type": "stream",
     "text": [
      "CPU Count:  20\n"
     ]
    }
   ],
   "source": [
    "cpu_count = os.cpu_count()\n",
    "parallelcount = cpu_count\n",
    "print(\"CPU Count: \", cpu_count)"
   ]
  },
  {
   "cell_type": "code",
   "execution_count": 5,
   "metadata": {},
   "outputs": [],
   "source": [
    "#Load the json file\n",
    "with open('/home/sreenath_a/Projects/OSS/API_keys.json') as f:\n",
    "    keys = json.load(f)['keys']"
   ]
  },
  {
   "cell_type": "code",
   "execution_count": 6,
   "metadata": {},
   "outputs": [],
   "source": [
    "keys_list = [(i.split(\":\")[0], i.split(\":\")[1]) for i in keys]\n",
    "collector = collect(keys_list)"
   ]
  },
  {
   "cell_type": "code",
   "execution_count": 7,
   "metadata": {},
   "outputs": [],
   "source": [
    "statement = \"SELECT owner, repo FROM python.package_repo_info LEFT JOIN python.package_commits_info ON owner=repo_owner AND repo=repo_name WHERE repo_owner is NULL AND repo_name is NULL;\""
   ]
  },
  {
   "cell_type": "code",
   "execution_count": 8,
   "metadata": {},
   "outputs": [],
   "source": [
    "statement_count = \"SELECT count(*) FROM python.package_repo_info LEFT JOIN python.package_commits_info ON owner=repo_owner AND repo=repo_name WHERE repo_owner is NULL AND repo_name is NULL;\"\n",
    "with engine.connect() as conn:\n",
    "    result = conn.execute(sql_text(statement_count))\n",
    "    row_count = result.scalar()"
   ]
  },
  {
   "cell_type": "code",
   "execution_count": null,
   "metadata": {},
   "outputs": [],
   "source": [
    "row_count"
   ]
  },
  {
   "cell_type": "code",
   "execution_count": null,
   "metadata": {},
   "outputs": [],
   "source": [
    "overall_it = (row_count//parallelcount)+1"
   ]
  },
  {
   "cell_type": "code",
   "execution_count": null,
   "metadata": {},
   "outputs": [],
   "source": [
    "def get_commits(owner, repo, key, since):\n",
    "    randtime = randint(100, 200)\n",
    "    time.sleep(randtime/3)\n",
    "    try:\n",
    "        commits = collector.collectCommits(owner, repo, key, since)\n",
    "        return commits\n",
    "    except Exception as e:\n",
    "        print(\"Error: \", e)\n",
    "        return None"
   ]
  },
  {
   "cell_type": "code",
   "execution_count": null,
   "metadata": {},
   "outputs": [],
   "source": [
    "t = 0\n",
    "for chunk in tqdm(pd.read_sql_query(con=engine.connect(), sql=sql_text(statement), chunksize=parallelcount), total=overall_it):\n",
    "    repos = chunk.repo.tolist()\n",
    "    owners = chunk.owner.tolist()\n",
    "    best_keys = collector.getBestKeys(n=parallelcount)\n",
    "    sinces = [\"2007-01-01T00:00:00Z\" for i in range(parallelcount)]\n",
    "    args = list(zip(owners, repos, best_keys, sinces))\n",
    "    with Pool(parallelcount) as p:\n",
    "        result = p.starmap(get_commits, args)\n",
    "    result = [i for i in result if i is not None]\n",
    "    if len(result) == 0:\n",
    "        continue\n",
    "    df_result = pd.concat(result)[columns]\n",
    "    df_result = df_result.reset_index(drop=True)\n",
    "    if len(df_result) == 0:\n",
    "        continue\n",
    "    df_result.to_sql(name='package_commits_info', con=engine, if_exists='append', schema='python', index=False)\n",
    "    t = t + 1\n",
    "    if t % 2 == 0:\n",
    "        time.sleep(60)\n",
    "    if t % 10 == 0:\n",
    "        time.sleep(120)"
   ]
  }
 ],
 "metadata": {
  "kernelspec": {
   "display_name": "OSS",
   "language": "python",
   "name": "python3"
  },
  "language_info": {
   "codemirror_mode": {
    "name": "ipython",
    "version": 3
   },
   "file_extension": ".py",
   "mimetype": "text/x-python",
   "name": "python",
   "nbconvert_exporter": "python",
   "pygments_lexer": "ipython3",
   "version": "3.8.0"
  },
  "orig_nbformat": 4
 },
 "nbformat": 4,
 "nbformat_minor": 2
}
