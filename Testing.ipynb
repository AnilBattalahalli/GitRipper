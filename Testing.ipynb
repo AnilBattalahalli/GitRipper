{
 "cells": [
  {
   "cell_type": "code",
   "execution_count": 1,
   "metadata": {},
   "outputs": [],
   "source": [
    "import json\n",
    "import os\n",
    "from tqdm import tqdm\n",
    "from multiprocessing import Pool\n",
    "import sys\n",
    "import time\n",
    "sys.path.append('/home/sreenath_a/Projects/OSS/Production/GitRipper')\n",
    "\n",
    "import pandas as pd\n",
    "from GitRipper.Ripper import collect"
   ]
  },
  {
   "cell_type": "code",
   "execution_count": 17,
   "metadata": {},
   "outputs": [],
   "source": [
    "keys = ['user_1:key_1',\n",
    "        'user_2:key_2',\n",
    "        'user_3:key_3',\n",
    "        'user_4:key_4',\n",
    "        'user_5:key_5']"
   ]
  },
  {
   "cell_type": "code",
   "execution_count": null,
   "metadata": {},
   "outputs": [],
   "source": [
    "keys_list = [(i.split(\":\")[0], i.split(\":\")[1]) for i in keys]\n",
    "collector = collect(keys_list)"
   ]
  },
  {
   "cell_type": "markdown",
   "metadata": {},
   "source": [
    "### Testing `getRepoInfo` query"
   ]
  },
  {
   "cell_type": "code",
   "execution_count": 3,
   "metadata": {},
   "outputs": [
    {
     "data": {
      "text/plain": [
       "{'owner': 'tensorflow',\n",
       " 'repo': 'tensorflow',\n",
       " 'name': 'tensorflow',\n",
       " 'description': 'An Open Source Machine Learning Framework for Everyone',\n",
       " 'licenseName': 'Apache License 2.0',\n",
       " 'licenseSpdxId': 'Apache-2.0',\n",
       " 'licenseUrl': 'http://choosealicense.com/licenses/apache-2.0/',\n",
       " 'shortDescriptionHTML': 'An Open Source Machine Learning Framework for Everyone',\n",
       " 'repourl': 'https://github.com/tensorflow/tensorflow',\n",
       " 'createdAt': '2015-11-07T01:19:20Z',\n",
       " 'updatedAt': '2023-10-10T20:21:31Z',\n",
       " 'pushedAt': '2023-10-10T20:59:16Z',\n",
       " 'forkCount': 89030,\n",
       " 'stargazerCount': 178155,\n",
       " 'issuesCount': 1842,\n",
       " 'pullRequestsCount': 190,\n",
       " 'readme': '<div align=\"center\">\\n  <img src=\"https://www.tensorflow.org/images/tf_logo_horizontal.png\">\\n</div>\\n\\n[![Python](https://img.shields.io/pypi/pyversions/tensorflow.svg)](https://badge.fury.io/py/tensorflow)\\n[![PyPI](https://badge.fury.io/py/tensorflow.svg)](https://badge.fury.io/py/tensorflow)\\n[![DOI](https://zenodo.org/badge/DOI/10.5281/zenodo.4724125.svg)](https://doi.org/10.5281/zenodo.4724125)\\n[![CII Best Practices](https://bestpractices.coreinfrastructure.org/projects/1486/badge)](https://bestpractices.coreinfrastructure.org/projects/1486)\\n[![OpenSSF Scorecard](https://api.securityscorecards.dev/projects/github.com/tensorflow/tensorflow/badge)](https://securityscorecards.dev/viewer/?uri=github.com/tensorflow/tensorflow)\\n[![Fuzzing Status](https://oss-fuzz-build-logs.storage.googleapis.com/badges/tensorflow.svg)](https://bugs.chromium.org/p/oss-fuzz/issues/list?sort=-opened&can=1&q=proj:tensorflow)\\n[![Fuzzing Status](https://oss-fuzz-build-logs.storage.googleapis.com/badges/tensorflow-py.svg)](https://bugs.chromium.org/p/oss-fuzz/issues/list?sort=-opened&can=1&q=proj:tensorflow-py)\\n[![OSSRank](https://shields.io/endpoint?url=https://ossrank.com/shield/44)](https://ossrank.com/p/44)\\n[![Contributor Covenant](https://img.shields.io/badge/Contributor%20Covenant-v1.4%20adopted-ff69b4.svg)](CODE_OF_CONDUCT.md)\\n[![TF Official Continuous](https://tensorflow.github.io/build/TF%20Official%20Continuous.svg)](https://tensorflow.github.io/build#TF%20Official%20Continuous)\\n[![TF Official Nightly](https://tensorflow.github.io/build/TF%20Official%20Nightly.svg)](https://tensorflow.github.io/build#TF%20Official%20Nightly)\\n\\n**`Documentation`** |\\n------------------- |\\n[![Documentation](https://img.shields.io/badge/api-reference-blue.svg)](https://www.tensorflow.org/api_docs/) |\\n\\n[TensorFlow](https://www.tensorflow.org/) is an end-to-end open source platform\\nfor machine learning. It has a comprehensive, flexible ecosystem of\\n[tools](https://www.tensorflow.org/resources/tools),\\n[libraries](https://www.tensorflow.org/resources/libraries-extensions), and\\n[community](https://www.tensorflow.org/community) resources that lets\\nresearchers push the state-of-the-art in ML and developers easily build and\\ndeploy ML-powered applications.\\n\\nTensorFlow was originally developed by researchers and engineers working within\\nthe Machine Intelligence team at Google Brain to conduct research in machine\\nlearning and neural networks. However, the framework is versatile enough to be\\nused in other areas as well.\\n\\nTensorFlow provides stable [Python](https://www.tensorflow.org/api_docs/python)\\nand [C++](https://www.tensorflow.org/api_docs/cc) APIs, as well as a\\nnon-guaranteed backward compatible API for\\n[other languages](https://www.tensorflow.org/api_docs).\\n\\nKeep up-to-date with release announcements and security updates by subscribing\\nto\\n[announce@tensorflow.org](https://groups.google.com/a/tensorflow.org/forum/#!forum/announce).\\nSee all the [mailing lists](https://www.tensorflow.org/community/forums).\\n\\n## Install\\n\\nSee the [TensorFlow install guide](https://www.tensorflow.org/install) for the\\n[pip package](https://www.tensorflow.org/install/pip), to\\n[enable GPU support](https://www.tensorflow.org/install/gpu), use a\\n[Docker container](https://www.tensorflow.org/install/docker), and\\n[build from source](https://www.tensorflow.org/install/source).\\n\\nTo install the current release, which includes support for\\n[CUDA-enabled GPU cards](https://www.tensorflow.org/install/gpu) *(Ubuntu and\\nWindows)*:\\n\\n```\\n$ pip install tensorflow\\n```\\n\\nOther devices (DirectX and MacOS-metal) are supported using\\n[Device plugins](https://www.tensorflow.org/install/gpu_plugins#available_devices).\\n\\nA smaller CPU-only package is also available:\\n\\n```\\n$ pip install tensorflow-cpu\\n```\\n\\nTo update TensorFlow to the latest version, add `--upgrade` flag to the above\\ncommands.\\n\\n*Nightly binaries are available for testing using the\\n[tf-nightly](https://pypi.python.org/pypi/tf-nightly) and\\n[tf-nightly-cpu](https://pypi.python.org/pypi/tf-nightly-cpu) packages on PyPi.*\\n\\n#### *Try your first TensorFlow program*\\n\\n```shell\\n$ python\\n```\\n\\n```python\\n>>> import tensorflow as tf\\n>>> tf.add(1, 2).numpy()\\n3\\n>>> hello = tf.constant(\\'Hello, TensorFlow!\\')\\n>>> hello.numpy()\\nb\\'Hello, TensorFlow!\\'\\n```\\n\\nFor more examples, see the\\n[TensorFlow tutorials](https://www.tensorflow.org/tutorials/).\\n\\n## Contribution guidelines\\n\\n**If you want to contribute to TensorFlow, be sure to review the\\n[contribution guidelines](CONTRIBUTING.md). This project adheres to TensorFlow\\'s\\n[code of conduct](CODE_OF_CONDUCT.md). By participating, you are expected to\\nuphold this code.**\\n\\n**We use [GitHub issues](https://github.com/tensorflow/tensorflow/issues) for\\ntracking requests and bugs, please see\\n[TensorFlow Forum](https://discuss.tensorflow.org/) for general questions and\\ndiscussion, and please direct specific questions to\\n[Stack Overflow](https://stackoverflow.com/questions/tagged/tensorflow).**\\n\\nThe TensorFlow project strives to abide by generally accepted best practices in\\nopen-source software development.\\n\\n## Patching guidelines\\n\\nFollow these steps to patch a specific version of TensorFlow, for example, to\\napply fixes to bugs or security vulnerabilities:\\n\\n*   Clone the TensorFlow repo and switch to the corresponding branch for your\\n    desired TensorFlow version, for example, branch `r2.8` for version 2.8.\\n*   Apply (that is, cherry-pick) the desired changes and resolve any code\\n    conflicts.\\n*   Run TensorFlow tests and ensure they pass.\\n*   [Build](https://www.tensorflow.org/install/source) the TensorFlow pip\\n    package from source.\\n\\n## Continuous build status\\n\\nYou can find more community-supported platforms and configurations in the\\n[TensorFlow SIG Build community builds table](https://github.com/tensorflow/build#community-supported-tensorflow-builds).\\n\\n### Official Builds\\n\\nBuild Type                    | Status                                                                                                                                                                           | Artifacts\\n----------------------------- | -------------------------------------------------------------------------------------------------------------------------------------------------------------------------------- | ---------\\n**Linux CPU**                 | [![Status](https://storage.googleapis.com/tensorflow-kokoro-build-badges/ubuntu-cc.svg)](https://storage.googleapis.com/tensorflow-kokoro-build-badges/ubuntu-cc.html)           | [PyPI](https://pypi.org/project/tf-nightly/)\\n**Linux GPU**                 | [![Status](https://storage.googleapis.com/tensorflow-kokoro-build-badges/ubuntu-gpu-py3.svg)](https://storage.googleapis.com/tensorflow-kokoro-build-badges/ubuntu-gpu-py3.html) | [PyPI](https://pypi.org/project/tf-nightly-gpu/)\\n**Linux XLA**                 | [![Status](https://storage.googleapis.com/tensorflow-kokoro-build-badges/ubuntu-xla.svg)](https://storage.googleapis.com/tensorflow-kokoro-build-badges/ubuntu-xla.html)         | TBA\\n**macOS**                     | [![Status](https://storage.googleapis.com/tensorflow-kokoro-build-badges/macos-py2-cc.svg)](https://storage.googleapis.com/tensorflow-kokoro-build-badges/macos-py2-cc.html)     | [PyPI](https://pypi.org/project/tf-nightly/)\\n**Windows CPU**               | [![Status](https://storage.googleapis.com/tensorflow-kokoro-build-badges/windows-cpu.svg)](https://storage.googleapis.com/tensorflow-kokoro-build-badges/windows-cpu.html)       | [PyPI](https://pypi.org/project/tf-nightly/)\\n**Windows GPU**               | [![Status](https://storage.googleapis.com/tensorflow-kokoro-build-badges/windows-gpu.svg)](https://storage.googleapis.com/tensorflow-kokoro-build-badges/windows-gpu.html)       | [PyPI](https://pypi.org/project/tf-nightly-gpu/)\\n**Android**                   | [![Status](https://storage.googleapis.com/tensorflow-kokoro-build-badges/android.svg)](https://storage.googleapis.com/tensorflow-kokoro-build-badges/android.html)               | [Download](https://bintray.com/google/tensorflow/tensorflow/_latestVersion)\\n**Raspberry Pi 0 and 1**      | [![Status](https://storage.googleapis.com/tensorflow-kokoro-build-badges/rpi01-py3.svg)](https://storage.googleapis.com/tensorflow-kokoro-build-badges/rpi01-py3.html)           | [Py3](https://storage.googleapis.com/tensorflow-nightly/tensorflow-1.10.0-cp34-none-linux_armv6l.whl)\\n**Raspberry Pi 2 and 3**      | [![Status](https://storage.googleapis.com/tensorflow-kokoro-build-badges/rpi23-py3.svg)](https://storage.googleapis.com/tensorflow-kokoro-build-badges/rpi23-py3.html)           | [Py3](https://storage.googleapis.com/tensorflow-nightly/tensorflow-1.10.0-cp34-none-linux_armv7l.whl)\\n**Libtensorflow MacOS CPU**   | Status Temporarily Unavailable                                                                                                                                                   | [Nightly Binary](https://storage.googleapis.com/libtensorflow-nightly/prod/tensorflow/release/macos/latest/macos_cpu_libtensorflow_binaries.tar.gz) [Official GCS](https://storage.googleapis.com/tensorflow/)\\n**Libtensorflow Linux CPU**   | Status Temporarily Unavailable                                                                                                                                                   | [Nightly Binary](https://storage.googleapis.com/libtensorflow-nightly/prod/tensorflow/release/ubuntu_16/latest/cpu/ubuntu_cpu_libtensorflow_binaries.tar.gz) [Official GCS](https://storage.googleapis.com/tensorflow/)\\n**Libtensorflow Linux GPU**   | Status Temporarily Unavailable                                                                                                                                                   | [Nightly Binary](https://storage.googleapis.com/libtensorflow-nightly/prod/tensorflow/release/ubuntu_16/latest/gpu/ubuntu_gpu_libtensorflow_binaries.tar.gz) [Official GCS](https://storage.googleapis.com/tensorflow/)\\n**Libtensorflow Windows CPU** | Status Temporarily Unavailable                                                                                                                                                   | [Nightly Binary](https://storage.googleapis.com/libtensorflow-nightly/prod/tensorflow/release/windows/latest/cpu/windows_cpu_libtensorflow_binaries.tar.gz) [Official GCS](https://storage.googleapis.com/tensorflow/)\\n**Libtensorflow Windows GPU** | Status Temporarily Unavailable                                                                                                                                                   | [Nightly Binary](https://storage.googleapis.com/libtensorflow-nightly/prod/tensorflow/release/windows/latest/gpu/windows_gpu_libtensorflow_binaries.tar.gz) [Official GCS](https://storage.googleapis.com/tensorflow/)\\n\\n## Resources\\n\\n*   [TensorFlow.org](https://www.tensorflow.org)\\n*   [TensorFlow Tutorials](https://www.tensorflow.org/tutorials/)\\n*   [TensorFlow Official Models](https://github.com/tensorflow/models/tree/master/official)\\n*   [TensorFlow Examples](https://github.com/tensorflow/examples)\\n*   [TensorFlow Codelabs](https://codelabs.developers.google.com/?cat=TensorFlow)\\n*   [TensorFlow Blog](https://blog.tensorflow.org)\\n*   [Learn ML with TensorFlow](https://www.tensorflow.org/resources/learn-ml)\\n*   [TensorFlow Twitter](https://twitter.com/tensorflow)\\n*   [TensorFlow YouTube](https://www.youtube.com/channel/UC0rqucBdTuFTjJiefW5t-IQ)\\n*   [TensorFlow model optimization roadmap](https://www.tensorflow.org/model_optimization/guide/roadmap)\\n*   [TensorFlow White Papers](https://www.tensorflow.org/about/bib)\\n*   [TensorBoard Visualization Toolkit](https://github.com/tensorflow/tensorboard)\\n*   [TensorFlow Code Search](https://cs.opensource.google/tensorflow/tensorflow)\\n\\nLearn more about the\\n[TensorFlow community](https://www.tensorflow.org/community) and how to\\n[contribute](https://www.tensorflow.org/community/contribute).\\n\\n## Courses\\n\\n* [Coursera](https://www.coursera.org/search?query=TensorFlow)\\n* [Udacity](https://www.udacity.com/courses/all?search=TensorFlow)\\n* [Edx](https://www.edx.org/search?q=TensorFlow)\\n\\n## License\\n\\n[Apache License 2.0](LICENSE)\\n'}"
      ]
     },
     "execution_count": 3,
     "metadata": {},
     "output_type": "execute_result"
    }
   ],
   "source": [
    "collector.getRepoInfo('tensorflow', 'tensorflow')"
   ]
  },
  {
   "cell_type": "markdown",
   "metadata": {},
   "source": [
    "### Testing `collectCommits` query"
   ]
  },
  {
   "cell_type": "code",
   "execution_count": 4,
   "metadata": {},
   "outputs": [],
   "source": [
    "df = collector.collectCommits('jianfch', 'stable-ts')"
   ]
  },
  {
   "cell_type": "code",
   "execution_count": 7,
   "metadata": {},
   "outputs": [
    {
     "data": {
      "text/html": [
       "<div>\n",
       "<style scoped>\n",
       "    .dataframe tbody tr th:only-of-type {\n",
       "        vertical-align: middle;\n",
       "    }\n",
       "\n",
       "    .dataframe tbody tr th {\n",
       "        vertical-align: top;\n",
       "    }\n",
       "\n",
       "    .dataframe thead th {\n",
       "        text-align: right;\n",
       "    }\n",
       "</style>\n",
       "<table border=\"1\" class=\"dataframe\">\n",
       "  <thead>\n",
       "    <tr style=\"text-align: right;\">\n",
       "      <th></th>\n",
       "      <th>repo_name</th>\n",
       "      <th>repo_owner</th>\n",
       "      <th>oid</th>\n",
       "      <th>messageHeadline</th>\n",
       "      <th>author_name</th>\n",
       "      <th>author_email</th>\n",
       "      <th>author_user_login</th>\n",
       "      <th>author_user_location</th>\n",
       "      <th>author_user_company</th>\n",
       "      <th>author_user_pronouns</th>\n",
       "      <th>author_user_bio</th>\n",
       "      <th>author_user_websiteUrl</th>\n",
       "      <th>author_user_twitterUsername</th>\n",
       "      <th>author_date</th>\n",
       "      <th>additions</th>\n",
       "      <th>deletions</th>\n",
       "    </tr>\n",
       "  </thead>\n",
       "  <tbody>\n",
       "    <tr>\n",
       "      <th>0</th>\n",
       "      <td>stable-ts</td>\n",
       "      <td>jianfch</td>\n",
       "      <td>c90ff06bc55694034994010e05b5fc2f50070b03</td>\n",
       "      <td>added `--align` to CLI</td>\n",
       "      <td>jian</td>\n",
       "      <td>jianfch@gmail.com</td>\n",
       "      <td>jianfch</td>\n",
       "      <td>None</td>\n",
       "      <td>None</td>\n",
       "      <td></td>\n",
       "      <td></td>\n",
       "      <td>None</td>\n",
       "      <td>None</td>\n",
       "      <td>2023-10-10T14:46:52-04:00</td>\n",
       "      <td>45</td>\n",
       "      <td>8</td>\n",
       "    </tr>\n",
       "    <tr>\n",
       "      <th>1</th>\n",
       "      <td>stable-ts</td>\n",
       "      <td>jianfch</td>\n",
       "      <td>7f62a9db98db5c63d93daa3397fed900f59b0596</td>\n",
       "      <td>fixed preprocessing for `transcribe_minimal()`...</td>\n",
       "      <td>jian</td>\n",
       "      <td>jianfch@gmail.com</td>\n",
       "      <td>jianfch</td>\n",
       "      <td>None</td>\n",
       "      <td>None</td>\n",
       "      <td></td>\n",
       "      <td></td>\n",
       "      <td>None</td>\n",
       "      <td>None</td>\n",
       "      <td>2023-10-05T13:28:53-04:00</td>\n",
       "      <td>26</td>\n",
       "      <td>11</td>\n",
       "    </tr>\n",
       "    <tr>\n",
       "      <th>2</th>\n",
       "      <td>stable-ts</td>\n",
       "      <td>jianfch</td>\n",
       "      <td>857df9a0f2756ee99a7eaeeee2610d245bd1c3c5</td>\n",
       "      <td>-fixed [demucs] for `transcribe_minimal()`</td>\n",
       "      <td>jian</td>\n",
       "      <td>jianfch@gmail.com</td>\n",
       "      <td>jianfch</td>\n",
       "      <td>None</td>\n",
       "      <td>None</td>\n",
       "      <td></td>\n",
       "      <td></td>\n",
       "      <td>None</td>\n",
       "      <td>None</td>\n",
       "      <td>2023-10-03T23:24:57-04:00</td>\n",
       "      <td>25</td>\n",
       "      <td>10</td>\n",
       "    </tr>\n",
       "    <tr>\n",
       "      <th>3</th>\n",
       "      <td>stable-ts</td>\n",
       "      <td>jianfch</td>\n",
       "      <td>17df943f8f8a71273ddc3856f37840b59f85d83a</td>\n",
       "      <td>Merge branch 'main' of https://github.com/jian...</td>\n",
       "      <td>jian</td>\n",
       "      <td>jianfch@gmail.com</td>\n",
       "      <td>jianfch</td>\n",
       "      <td>None</td>\n",
       "      <td>None</td>\n",
       "      <td></td>\n",
       "      <td></td>\n",
       "      <td>None</td>\n",
       "      <td>None</td>\n",
       "      <td>2023-10-03T15:32:17-04:00</td>\n",
       "      <td>0</td>\n",
       "      <td>262</td>\n",
       "    </tr>\n",
       "    <tr>\n",
       "      <th>4</th>\n",
       "      <td>stable-ts</td>\n",
       "      <td>jianfch</td>\n",
       "      <td>1732ac0b8a14000545c7571b45c4a71e9d6ca2ea</td>\n",
       "      <td>fixed `save_as_json()` for CLI (#216)</td>\n",
       "      <td>jian</td>\n",
       "      <td>jianfch@gmail.com</td>\n",
       "      <td>jianfch</td>\n",
       "      <td>None</td>\n",
       "      <td>None</td>\n",
       "      <td></td>\n",
       "      <td></td>\n",
       "      <td>None</td>\n",
       "      <td>None</td>\n",
       "      <td>2023-10-03T15:32:15-04:00</td>\n",
       "      <td>4</td>\n",
       "      <td>3</td>\n",
       "    </tr>\n",
       "  </tbody>\n",
       "</table>\n",
       "</div>"
      ],
      "text/plain": [
       "   repo_name repo_owner                                       oid  \\\n",
       "0  stable-ts    jianfch  c90ff06bc55694034994010e05b5fc2f50070b03   \n",
       "1  stable-ts    jianfch  7f62a9db98db5c63d93daa3397fed900f59b0596   \n",
       "2  stable-ts    jianfch  857df9a0f2756ee99a7eaeeee2610d245bd1c3c5   \n",
       "3  stable-ts    jianfch  17df943f8f8a71273ddc3856f37840b59f85d83a   \n",
       "4  stable-ts    jianfch  1732ac0b8a14000545c7571b45c4a71e9d6ca2ea   \n",
       "\n",
       "                                     messageHeadline author_name  \\\n",
       "0                             added `--align` to CLI        jian   \n",
       "1  fixed preprocessing for `transcribe_minimal()`...        jian   \n",
       "2         -fixed [demucs] for `transcribe_minimal()`        jian   \n",
       "3  Merge branch 'main' of https://github.com/jian...        jian   \n",
       "4              fixed `save_as_json()` for CLI (#216)        jian   \n",
       "\n",
       "        author_email author_user_login author_user_location  \\\n",
       "0  jianfch@gmail.com           jianfch                 None   \n",
       "1  jianfch@gmail.com           jianfch                 None   \n",
       "2  jianfch@gmail.com           jianfch                 None   \n",
       "3  jianfch@gmail.com           jianfch                 None   \n",
       "4  jianfch@gmail.com           jianfch                 None   \n",
       "\n",
       "  author_user_company author_user_pronouns author_user_bio  \\\n",
       "0                None                                        \n",
       "1                None                                        \n",
       "2                None                                        \n",
       "3                None                                        \n",
       "4                None                                        \n",
       "\n",
       "  author_user_websiteUrl author_user_twitterUsername  \\\n",
       "0                   None                        None   \n",
       "1                   None                        None   \n",
       "2                   None                        None   \n",
       "3                   None                        None   \n",
       "4                   None                        None   \n",
       "\n",
       "                 author_date  additions  deletions  \n",
       "0  2023-10-10T14:46:52-04:00         45          8  \n",
       "1  2023-10-05T13:28:53-04:00         26         11  \n",
       "2  2023-10-03T23:24:57-04:00         25         10  \n",
       "3  2023-10-03T15:32:17-04:00          0        262  \n",
       "4  2023-10-03T15:32:15-04:00          4          3  "
      ]
     },
     "execution_count": 7,
     "metadata": {},
     "output_type": "execute_result"
    }
   ],
   "source": [
    "df.head()"
   ]
  },
  {
   "cell_type": "code",
   "execution_count": 6,
   "metadata": {},
   "outputs": [
    {
     "data": {
      "text/plain": [
       "(171, 16)"
      ]
     },
     "execution_count": 6,
     "metadata": {},
     "output_type": "execute_result"
    }
   ],
   "source": [
    "df.shape"
   ]
  },
  {
   "cell_type": "markdown",
   "metadata": {},
   "source": [
    "### Testing `collectForks` query"
   ]
  },
  {
   "cell_type": "code",
   "execution_count": 11,
   "metadata": {},
   "outputs": [],
   "source": [
    "df = collector.collectForks('jianfch', 'stable-ts')"
   ]
  },
  {
   "cell_type": "code",
   "execution_count": 12,
   "metadata": {},
   "outputs": [
    {
     "data": {
      "text/html": [
       "<div>\n",
       "<style scoped>\n",
       "    .dataframe tbody tr th:only-of-type {\n",
       "        vertical-align: middle;\n",
       "    }\n",
       "\n",
       "    .dataframe tbody tr th {\n",
       "        vertical-align: top;\n",
       "    }\n",
       "\n",
       "    .dataframe thead th {\n",
       "        text-align: right;\n",
       "    }\n",
       "</style>\n",
       "<table border=\"1\" class=\"dataframe\">\n",
       "  <thead>\n",
       "    <tr style=\"text-align: right;\">\n",
       "      <th></th>\n",
       "      <th>owner</th>\n",
       "      <th>repo</th>\n",
       "      <th>fork_owner</th>\n",
       "      <th>fork_repo</th>\n",
       "    </tr>\n",
       "  </thead>\n",
       "  <tbody>\n",
       "    <tr>\n",
       "      <th>0</th>\n",
       "      <td>jianfch</td>\n",
       "      <td>stable-ts</td>\n",
       "      <td>lukasjhan</td>\n",
       "      <td>stable-ts</td>\n",
       "    </tr>\n",
       "    <tr>\n",
       "      <th>1</th>\n",
       "      <td>jianfch</td>\n",
       "      <td>stable-ts</td>\n",
       "      <td>ShantanuNair</td>\n",
       "      <td>stable-ts</td>\n",
       "    </tr>\n",
       "    <tr>\n",
       "      <th>2</th>\n",
       "      <td>jianfch</td>\n",
       "      <td>stable-ts</td>\n",
       "      <td>techthiyanes</td>\n",
       "      <td>stable-ts</td>\n",
       "    </tr>\n",
       "    <tr>\n",
       "      <th>3</th>\n",
       "      <td>jianfch</td>\n",
       "      <td>stable-ts</td>\n",
       "      <td>entn-at</td>\n",
       "      <td>stable-ts</td>\n",
       "    </tr>\n",
       "    <tr>\n",
       "      <th>4</th>\n",
       "      <td>jianfch</td>\n",
       "      <td>stable-ts</td>\n",
       "      <td>Nathan-Roll1</td>\n",
       "      <td>stable-ts</td>\n",
       "    </tr>\n",
       "  </tbody>\n",
       "</table>\n",
       "</div>"
      ],
      "text/plain": [
       "     owner       repo    fork_owner  fork_repo\n",
       "0  jianfch  stable-ts     lukasjhan  stable-ts\n",
       "1  jianfch  stable-ts  ShantanuNair  stable-ts\n",
       "2  jianfch  stable-ts  techthiyanes  stable-ts\n",
       "3  jianfch  stable-ts       entn-at  stable-ts\n",
       "4  jianfch  stable-ts  Nathan-Roll1  stable-ts"
      ]
     },
     "execution_count": 12,
     "metadata": {},
     "output_type": "execute_result"
    }
   ],
   "source": [
    "df.head()"
   ]
  },
  {
   "cell_type": "code",
   "execution_count": 14,
   "metadata": {},
   "outputs": [
    {
     "data": {
      "text/plain": [
       "(94, 4)"
      ]
     },
     "execution_count": 14,
     "metadata": {},
     "output_type": "execute_result"
    }
   ],
   "source": [
    "df.shape"
   ]
  }
 ],
 "metadata": {
  "kernelspec": {
   "display_name": "OSS-V-95o0Tv",
   "language": "python",
   "name": "python3"
  },
  "language_info": {
   "codemirror_mode": {
    "name": "ipython",
    "version": 3
   },
   "file_extension": ".py",
   "mimetype": "text/x-python",
   "name": "python",
   "nbconvert_exporter": "python",
   "pygments_lexer": "ipython3",
   "version": "3.8.8"
  }
 },
 "nbformat": 4,
 "nbformat_minor": 2
}
